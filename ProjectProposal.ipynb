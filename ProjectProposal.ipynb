{
 "cells": [
  {
   "cell_type": "markdown",
   "metadata": {},
   "source": [
    "# COGS 108 - Project Proposal"
   ]
  },
  {
   "cell_type": "markdown",
   "metadata": {},
   "source": [
    "## Important\n",
    "\n",
    "- Make sure all group members (3-5 people) are listed in the group members section.\n",
    "- ONE, and only one, member of your group should upload this notebook to TritonED. \n",
    "- Each member of the group will receive the same grade on this assignment. \n",
    "- Keep the file name the same: submit the file 'ProjectProposal.ipynb'"
   ]
  },
  {
   "cell_type": "markdown",
   "metadata": {},
   "source": [
    "## Overview"
   ]
  },
  {
   "cell_type": "markdown",
   "metadata": {},
   "source": [
    "Read the project description and detailed instructions for this assignment in the 'ProjectOutline' document."
   ]
  },
  {
   "cell_type": "markdown",
   "metadata": {},
   "source": [
    "## Group Members: Fill in the Student IDs of each group member here\n",
    "\n",
    "Replace the lines below to list each persons full student ID. Add lines as needed for your group size, and make sure each ID is listed on a separate line. \n",
    "\n",
    "- A14006863\n",
    "- A14059172\n",
    "- A13561380\n",
    "- A13687448\n",
    "- A13763761"
   ]
  },
  {
   "cell_type": "markdown",
   "metadata": {},
   "source": [
    "### Research Question\n",
    "\n",
    "What is your research question? (1-2 sentences)"
   ]
  },
  {
   "cell_type": "markdown",
   "metadata": {},
   "source": [
    "How is house price summarized by the location, time periods in a year, and the average number of rooms per household? How about the relationship between those factors and the house rent?"
   ]
  },
  {
   "cell_type": "markdown",
   "metadata": {},
   "source": [
    "### Hypothesis\n",
    "\n",
    "What is your main hypothesis and predictions? (2-3 sentences)"
   ]
  },
  {
   "cell_type": "markdown",
   "metadata": {},
   "source": [
    "Housing price is correlated to average income, average number of rooms per household, and proximity to ocean. Housing price will be higher in specific time periods in a year.\n",
    "We predict that:\n",
    "1. More average rooms at the certain location means higher house pricing.\n",
    "2. Closer proximity to ocean means higher house pricing.\n",
    "3. Housing price will be higher in the fall of the year."
   ]
  },
  {
   "cell_type": "markdown",
   "metadata": {},
   "source": [
    "### Dataset(s)\n",
    "\n",
    "What data will you use to answer your question? Describe the dataset(s) in terms of number of observations, what kind of features it contains, etc. You must use at least one dataset containing at least approximately 1000 observations (if your data are smaller but you feel they are sufficient, email Prof. Voytek). You are welcome (and in fact recommended) to find multiple datasets! If you do so, describe each one, and briefly explain how you will combine them together. "
   ]
  },
  {
   "cell_type": "markdown",
   "metadata": {},
   "source": [
    "- Dataset Name: California Housing Prices\n",
    "- Link to the dataset: https://www.kaggle.com/camnugent/california-housing-prices/datad\n",
    "- Number of observations: 20641\n",
    "\n",
    "1-2 sentences describing the dataset. \n",
    "This dataset describes the median house prices for California districts derived from the 1990 census. We are going to use the data after 2000.\n",
    "\n",
    "- Dataset Name: Home Prices, Sales & Inventory\n",
    "- Link to the dataset: https://www.redfin.com/blog/data-center\n",
    "- Number of observations: 511\n",
    "\n",
    "1-2 sentences describing the dataset. \n",
    "This dataset contains various types of columns, of which the one for time period is the most important for our research.\n",
    "\n",
    "- Dataset Name: Price to Rent Ratio, based on neighborhood\n",
    "- Link to the dataset:\n",
    "http://files.zillowstatic.com/research/public/Neighborhood/Neighborhood_PriceToRentRatio_AllHomes.csv\n",
    "- Number of observations: 5827\n",
    "\n",
    "1-2 sentences describing the dataset. \n",
    "This dataset is from Zillow, which is about the rent to house ratio (the monthly rent divided by the house price) in different neighborhood in the United States.\n",
    "\n",
    "If you plan to use multiple datasets, add 1-2 sentences about how you plan to combine these datasets.\n",
    "\n",
    "As mentioned above, the first dataset does not contain the information for the relationship between price and time period. Thus, we would need this supplemental information from the second dataset to support our research. Moreover, we need the information from the third dataset about the ratio of house price to rent in different places."
   ]
  },
  {
   "cell_type": "markdown",
   "metadata": {},
   "source": [
    "### Background and Prior Work\n",
    "\n",
    "Why is this question of interest, what background information led you to your hypothesis, and why is this important?\n",
    "\n",
    "Find some relevant prior work, and reference those sources. Even if you think you have a totally novel question, find the most similar prior work that you can and discuss how it relates to your project. \n",
    "\n",
    "References can be research publications, but they need not be. Blogs, github repositories, company websites, etc., are all viable references if they are relevant to your project.\n",
    "\n",
    "(2-3 paragraphs, including at least 2 references)"
   ]
  },
  {
   "cell_type": "markdown",
   "metadata": {},
   "source": [
    "House price is an overall problem for most people in the United States. As international students, we usually need to evaluate housing price around the campus and then choose a house or an apartment with reasonable price carefully. In the process of finding our future home, we are interested in when and where the house price is at the lowest in order to save money as well as how to find such information.\n",
    "\n",
    "This situation leads to our research question -- How is house price summarized by the location, time periods in a year, and the average number of rooms per household? Based on our experience of looking for apartments, the prices around May and June are typically at the highest, given the academic calendar our university has. The prior work described in the first reference “House Price Data Analysis” also shed a light to our entering point. This research relates the sale price to many variables and deduces that the sale price follows the skewed normal distribution.\n",
    "\n",
    "References (include links):\n",
    "- 1) Chandrashekhar, \"House Price Data Analysis\". The link is: https://www.kaggle.com/c7shekhar/house-price-data-analysis\n",
    "- 2) Kenneth Richard Corsini, \"Statistical Analysis of Residential Housing Prices in An Up and Down Real Estate Market: A General Framework and Study of Cobb County, GA\". The link is: https://smartech.gatech.edu/bitstream/handle/1853/31763/Corsini_Kenneth_R_200912_mast.pdf"
   ]
  },
  {
   "cell_type": "markdown",
   "metadata": {},
   "source": [
    "### Proposed Methods\n",
    "\n",
    "What methods will you use to analyze your data?\n",
    "\n",
    "- How 'clean' is the data? To the extent that it requires cleaning, how will you do so?\n",
    "- How will you analyze the data? Be as specific as you can. Briefly mention any pre-processing steps that are required for your methods (for example, checking data distributions and performing any transformations that may be required). Include a brief outline of how you will apply your chosen method(s). \n",
    "- What do you plan to report? Briefly mention any key visualizations you plan to create, and/or the kind of results you will be able to report that address your question (this could be, for example, the outcome of some statistical test(s), prediction error on a model, a model fit parameter, etc.).\n",
    "- Include a list of packages you expect to use for you project. If you plan to use packages we have not used in class, add a very brief description about them (a few words is sufficient). "
   ]
  },
  {
   "cell_type": "markdown",
   "metadata": {},
   "source": [
    "*Data Cleaning (2-3 sentences)*\n",
    "All three datasets are overall pretty clean. For the first dataset, it has more data for house price over around 450000 than expected. We would like to use .drop() to process the rows with a price over 450000. And for the second one, we want to drop other columns of variables as we only want the one about time period. Regarding the third dataset, we want to use only the data in CA to proceed our research. Thus, we want to sort and keep the data of CA only.\n",
    "\n",
    "*Data Analysis (1-2 paragraphs)*\n",
    "Firstly we want to plot several proper diagrams to represent the relationships between the house price and 1) the location, 2) time periods in a year, and 3) the average number of rooms per household. Then we should analyse those diagrams directly in three ways to extract informations from them, such as: 1) the outliers, 2) the distribution, and 3) the variance of the data.\n",
    "After plotting the diagrams and analyzing them, we should do some necessary data-cleaning again. We can drop the outliers in the dataset and transform the diagrams which have abnormal distribution to a normal one, thereby getting the clearest results to lead to our conclusion.\n",
    "\n",
    "*What to report (2-3 sentences)*\n",
    "When we gather enough information from a comparatively clean dataset, we can draw some proper conclusions to our research question and hypotheses respectively. With the valid evidences and conclusions, we can also generalize the situation in CA to a broader range of area.\n",
    "\n",
    "Packages we plan to use:\n",
    "- a. pandas\n",
    "- b. matplotlib.pyplot\n",
    "- c. NumPy"
   ]
  },
  {
   "cell_type": "markdown",
   "metadata": {},
   "source": [
    "### Ethics and Privacy\n",
    "\n",
    "Briefly acknowledge and address any potential issues of ethics and privacy for the proposed project. In particular:\n",
    "- Do you have permission to use this data, for this purpose?\n",
    "- Are there privacy concerns regarding your datasets that you need to deal with, and/or terms of use that you need to comply with?\n",
    "- Are there potential biases in your dataset(s), in terms of who it composes, and how it was collected, that may be problematic in terms of it allowing for equitable analysis? (For example, does your data exclude particular populations, or is it likely to reflect particular human biases in a way that could be a problem?) \n",
    "- Are there any other issues related to your topic area, data, and/or analyses that are potentially problematic in terms of data privacy and equitable impact?\n",
    "- How will you handle any issues you identify?\n",
    "\n",
    "This dataset was initially featured in the following paper: Pace, R. Kelley, and Ronald Barry. \"Sparse spatial autoregressions.\" Statistics & Probability Letters 33.3 (1997): 291-297. Since the dataset is published as a public source, we do have permission to use this data for our own analysis on related subjects. Our dataset does not involve any personal information such as name, phone number or zip-code, thus we do not have to deal with privacy concerns.\n",
    "One potential bias that our dataset has is that its only geographical concern is the proximity to ocean. There will be other geographical factors such as neighbor crime rate or other geographical features such as proximity to lake, mountain or nearest elementary school that affect housing prices. We plan to focus on finding the correlation between house pricing, amount of bedrooms and use simply the proximity to ocean as an additional factor to minimize the influence of this potentially biased factor on our prediction model."
   ]
  },
  {
   "cell_type": "markdown",
   "metadata": {},
   "source": [
    "### Discussion\n",
    "\n",
    "Discuss your project, looking forward to what your results might mean, how they fit it in with what is already known, and what problems you may encounter. \n",
    "\n",
    "In particular:\n",
    "- If your analyses and hypotheses are correct, what will be the contribution of this project to the topic domain? \n",
    "- Alternatively, what will you do if you methods don't work and/or your hypotheses are wrong? \n",
    "- What are the potential pitfalls and potential confounds of your data and/or methods that may cause problems, and/or influence your interpretations?"
   ]
  },
  {
   "cell_type": "markdown",
   "metadata": {},
   "source": [
    "If our analyses and hypotheses are correct, we have successfully found a prediction model on house pricing. The prediction model contributes to the housing market, since it can be used for all customers who intend to buy or rent a house that is relatively cheaper in the neighborhood. We also hope to find the cheapest time period in the house market. House owners can also estimate the value of their real estates using our model. Similarly, the approach we will take can be used in similar fields, such as car market.\n",
    "\n",
    "Alternatively, if our method did not work, we would check whether our algorithm is correct. Then if the method still does not match our current dataset, we will try to find a supplementary or an alternative dataset to work with. If our hypothesis is wrong, we will look at the results of our analysis, and find out what is the real correlation between the factors we considered and house pricing.\n",
    "\n",
    "One potential confound of our data is cultural influence. Since our data does not include any personal information, we have no information on the cultural background of the households. It is possible that some neighborhoods consist householders with similar cultural background, and people from this cultural background tend to spend more or less than others on housing. Since this does not apply to the majority of people, we did not take this factor into consideration."
   ]
  }
 ],
 "metadata": {
  "kernelspec": {
   "display_name": "Python 3",
   "language": "python",
   "name": "python3"
  },
  "language_info": {
   "codemirror_mode": {
    "name": "ipython",
    "version": 3
   },
   "file_extension": ".py",
   "mimetype": "text/x-python",
   "name": "python",
   "nbconvert_exporter": "python",
   "pygments_lexer": "ipython3",
   "version": "3.6.3"
  }
 },
 "nbformat": 4,
 "nbformat_minor": 2
}
